{
 "cells": [
  {
   "cell_type": "code",
   "execution_count": 111,
   "metadata": {},
   "outputs": [
    {
     "name": "stdout",
     "output_type": "stream",
     "text": [
      "Optimal eta: 0.33244, Optimal beta: 0.36127, MSE: 0.27720763715479035\n"
     ]
    }
   ],
   "source": [
    "#first run the regression\n",
    "import pandas as pd\n",
    "import numpy as np\n",
    "from scipy.optimize import curve_fit\n",
    "\n",
    "totalDailyValue = pd.read_csv(\"Input/totalDailyValueDf.csv\")\n",
    "imbalance = pd.read_csv(\"Input/imbalanceDf.csv\")\n",
    "vwap330 = pd.read_csv(\"Input/vwap330Df.csv\")\n",
    "arrivalPrice = pd.read_csv(\"Input/arrivalPriceDf.csv\")\n",
    "terminalPrice = pd.read_csv(\"Input/terminalPriceDf.csv\")\n",
    "dailyVol = pd.read_csv(\"Input/dailyVolDf.csv\")\n",
    "\n",
    "# Drop the \"Stock\" column if present\n",
    "totalDailyValue.drop(\"Stock\", axis=1, inplace=True)\n",
    "imbalance.drop(\"Stock\", axis=1, inplace=True)\n",
    "vwap330.drop(\"Stock\", axis=1, inplace=True)\n",
    "arrivalPrice.drop(\"Stock\", axis=1, inplace=True)\n",
    "terminalPrice.drop(\"Stock\", axis=1, inplace=True)\n",
    "dailyVol.drop(\"Stock\", axis=1, inplace=True)\n",
    "\n",
    "#compute rolling 10 day average of daily value\n",
    "lookback = 10\n",
    "avgDailyValue = totalDailyValue.copy()\n",
    "\n",
    "queue = []\n",
    "for c in totalDailyValue.columns:\n",
    "    #add new day\n",
    "    queue.append(totalDailyValue[c])\n",
    "\n",
    "\n",
    "    if len(queue) == lookback:\n",
    "        avgDailyValue[c] = sum(queue) / lookback\n",
    "\n",
    "        #remove the earliest day in the queue\n",
    "        queue.pop(0)\n",
    "    else:\n",
    "        avgDailyValue[c] = np.zeros_like(avgDailyValue.index)\n",
    "\n",
    "#we use the data from day 11 and onwards because the daily vol and average value are not avaliable before then\n",
    "totalDailyValue = totalDailyValue[totalDailyValue.columns[lookback:]]\n",
    "imbalance = imbalance[imbalance.columns[lookback:]]\n",
    "vwap330 = vwap330[vwap330.columns[lookback:]]\n",
    "arrivalPrice = arrivalPrice[arrivalPrice.columns[lookback:]]\n",
    "terminalPrice = terminalPrice[terminalPrice.columns[lookback:]]\n",
    "dailyVol = dailyVol[dailyVol.columns[lookback:]]\n",
    "avgDailyValue = avgDailyValue[avgDailyValue.columns[lookback:]]\n",
    "\n",
    "# Extract the required data for computation\n",
    "impact330 = vwap330 - arrivalPrice\n",
    "permanent_impact = (terminalPrice - arrivalPrice)/2\n",
    "\n",
    "\n",
    "Y = (impact330 - permanent_impact)  # temp_impact\n",
    "X = imbalance\n",
    "V = avgDailyValue\n",
    "\n",
    "# Replace infinite and NaN values with stock specific means\n",
    "Y = Y.apply(lambda row: row.fillna(row.mean()), axis=1)\n",
    "\n",
    "#perform the non-linear regression to minimize the sum of squared error\n",
    "\n",
    "#stack the data to one column\n",
    "y = np.array(Y.stack())\n",
    "x = np.array((X / (6*V/6.5)).stack())\n",
    "sigma = np.array(dailyVol.stack())\n",
    "\n",
    "def temp_impact(x,eta,beta):\n",
    "    temporary_impact = eta * sigma * np.sign(x) * np.power(np.abs(x) , beta)\n",
    "    return temporary_impact\n",
    "\n",
    "# Perform the curve fitting\n",
    "popt, pcov = curve_fit(temp_impact, x, y)\n",
    "\n",
    "# popt contains the optimal values for eta and beta\n",
    "eta_optimal = popt[0]\n",
    "beta_optimal = popt[1]\n",
    "\n",
    "y_pred = temp_impact(x,eta_optimal,beta_optimal)\n",
    "\n",
    "residuals = y - y_pred\n",
    "\n",
    "#print the result\n",
    "print('Optimal eta: %.5f, Optimal beta: %.5f, MSE: %s'%(eta_optimal,beta_optimal,np.mean(np.square(residuals))))"
   ]
  },
  {
   "cell_type": "markdown",
   "metadata": {},
   "source": [
    "**Assumptions of non-linear regressions:**"
   ]
  },
  {
   "cell_type": "markdown",
   "metadata": {},
   "source": [
    "**Significance of Parameters:**"
   ]
  },
  {
   "cell_type": "code",
   "execution_count": 112,
   "metadata": {},
   "outputs": [
    {
     "name": "stdout",
     "output_type": "stream",
     "text": [
      "eta p-value: 0.00067, beta p-value: 0.00050\n"
     ]
    }
   ],
   "source": [
    "#in scipy's curve fit function, pcov is the covariance of the parameters, under the assumption of normality, we can test for its significance\n",
    "from scipy.stats import norm\n",
    "std_eta = np.sqrt(pcov[0][0])\n",
    "std_beta = np.sqrt(pcov[1][1])\n",
    "\n",
    "eta_pvalue = norm.sf(eta_optimal / std_eta)\n",
    "beta_pvalue = norm.sf(beta_optimal / std_beta)\n",
    "\n",
    "#note that this is a one tailed test, because we expect the trading rate to have a positive correlation with the temporary impact on price\n",
    "print('eta p-value: %.5f, beta p-value: %.5f'%(eta_pvalue,beta_pvalue))\n",
    "#both satisfy 99% confidence that the coeff is not 0"
   ]
  },
  {
   "cell_type": "markdown",
   "metadata": {},
   "source": [
    "**Normality of Residuals:**"
   ]
  },
  {
   "cell_type": "code",
   "execution_count": 113,
   "metadata": {},
   "outputs": [
    {
     "name": "stdout",
     "output_type": "stream",
     "text": [
      "Skewness: 5.418978186088718\n",
      "Kurtosis: 209.21090244445003\n",
      "Skewness Test: SkewtestResult(statistic=139.25198684326767, pvalue=0.0)\n",
      "Kurtosis Test: KurtosistestResult(statistic=107.37514180577018, pvalue=0.0)\n"
     ]
    }
   ],
   "source": [
    "#we check for some of the standard assumptions of non-linear regression\n",
    "\n",
    "#1: normality of residuals\n",
    "import matplotlib.pyplot as plt\n",
    "from scipy.stats import skew, kurtosis, kurtosistest, skewtest\n",
    "\n",
    "skew_resi = skew(residuals)\n",
    "kurt_resi = kurtosis(residuals)\n",
    "\n",
    "test_skew = skewtest(residuals)\n",
    "test_kurt = kurtosistest(residuals)\n",
    "\n",
    "\n",
    "print(\"Skewness:\", skew_resi)\n",
    "print(\"Kurtosis:\", kurt_resi)\n",
    "print(\"Skewness Test:\", test_skew)  \n",
    "print(\"Kurtosis Test:\", test_kurt)  \n",
    "\n",
    "#these tests indicate that the residual is both skewed (to the right) and also heavily tailed, typical characteristics of financial data\n",
    "#the result basically indicate that there are a few cases where the temporary impact is much bigger than predicted "
   ]
  },
  {
   "cell_type": "code",
   "execution_count": 114,
   "metadata": {},
   "outputs": [
    {
     "data": {
      "image/png": "[encoded data removed]",
      "text/plain": [
       "<Figure size 640x480 with 1 Axes>"
      ]
     },
     "metadata": {},
     "output_type": "display_data"
    }
   ],
   "source": [
    "plt.hist(residuals,bins = 200)\n",
    "plt.title('residuals histogram')\n",
    "#plt.xlim((-3,3))\n",
    "plt.show()\n",
    "\n",
    "#the plot looks pretty nomrally shaped, with obviously big outliers"
   ]
  },
  {
   "cell_type": "code",
   "execution_count": 115,
   "metadata": {},
   "outputs": [
    {
     "data": {
      "image/png": "[encoded data removed]",
      "text/plain": [
       "<Figure size 640x480 with 1 Axes>"
      ]
     },
     "metadata": {},
     "output_type": "display_data"
    }
   ],
   "source": [
    "plt.hist(residuals,bins = 200)\n",
    "plt.title('residuals histogram (zoom in)')\n",
    "plt.xlim((-2,2))\n",
    "plt.show()\n",
    "\n",
    "#if we zoom in, we can see that it looks pretty normal around the center"
   ]
  },
  {
   "cell_type": "markdown",
   "metadata": {},
   "source": [
    "**Independence of residuals (absence of serial correlation):**"
   ]
  },
  {
   "cell_type": "code",
   "execution_count": 116,
   "metadata": {},
   "outputs": [
    {
     "name": "stdout",
     "output_type": "stream",
     "text": [
      "number of stocks whose residuals have non-zero serial correlation (0.99 confidence): 22 out of 509 stocks\n"
     ]
    }
   ],
   "source": [
    "#2: independence of error （serial correlation）\n",
    "from scipy.stats import pearsonr\n",
    "\n",
    "#we put the error back to its original tabular structure (each row is a stock and each column is one day)\n",
    "residuals_structured = x.reshape(X.shape)\n",
    "\n",
    "#define a function to calculate and test auto correlation of lag n\n",
    "def serial_corr(data,lag = 1):\n",
    "    correlation, p_value = pearsonr(data[:-lag], data[lag:])\n",
    "    \n",
    "    return correlation,p_value\n",
    "\n",
    "num_corr = 0\n",
    "confi_level = 0.99\n",
    "for residuals_stock in residuals_structured:\n",
    "    corr,p = serial_corr(residuals_stock)\n",
    "    if p <= (1 - confi_level):\n",
    "        num_corr += 1\n",
    "\n",
    "print(\"number of stocks whose residuals have non-zero serial correlation (%s confidence): %s out of 509 stocks\"%(confi_level,num_corr))\n",
    "#generally, for most stocks, there are no serial correlation of errors"
   ]
  },
  {
   "cell_type": "markdown",
   "metadata": {},
   "source": [
    "**performance across liquid-illiquid stocks:**"
   ]
  },
  {
   "cell_type": "code",
   "execution_count": 117,
   "metadata": {},
   "outputs": [
    {
     "name": "stdout",
     "output_type": "stream",
     "text": [
      "least liquid stock mean of MSE: 0.019907562314986412\n",
      "medium liquid stock mean of MSE: 0.007789065302357068\n",
      "most liquid stock mean of MSE: 0.005349204367666623\n",
      "between least and medium: U-statistic: 19662.0, P-value: 2.091255098513953e-09\n",
      "between medium and most: U-statistic: 18233.0, P-value: 2.9859119104420398e-05\n",
      "between least and most: U-statistic: 22947.0, P-value: 6.824205722188632e-21\n"
     ]
    }
   ],
   "source": [
    "#how does the model perform differently between liquid and illiquid stocks\n",
    "from scipy.stats import mannwhitneyu\n",
    "#we divide the stocks in to 3 category from least liquid to most liquid based on total daily value traded\n",
    "\n",
    "boundary = int(len(residuals_structured) / 3)\n",
    "\n",
    "least_liquid_indices = totalDailyValue.mean(axis=1).sort_values().index[:boundary]\n",
    "medium_liquid_indices = totalDailyValue.mean(axis=1).sort_values().index[boundary:boundary*2]\n",
    "most_liquid_indices = totalDailyValue.mean(axis=1).sort_values().index[boundary*2:]\n",
    "\n",
    "#calculate the mean squared error of each category\n",
    "least_MSE = np.square(residuals_structured[least_liquid_indices]).mean(axis=1)\n",
    "medium_MSE = np.square(residuals_structured[medium_liquid_indices]).mean(axis=1)\n",
    "most_MSE = np.square(residuals_structured[most_liquid_indices]).mean(axis=1)\n",
    "\n",
    "#use non-parametric Mann-Whitney test to see if MSE differs significantly \n",
    "\n",
    "print(f'least liquid stock mean of MSE: {np.mean(least_MSE)}')\n",
    "print(f'medium liquid stock mean of MSE: {np.mean(medium_MSE)}')\n",
    "print(f'most liquid stock mean of MSE: {np.mean(most_MSE)}')\n",
    "\n",
    "# Perform the Mann-Whitney U Test\n",
    "u_stat, p_value = mannwhitneyu(least_MSE, medium_MSE)\n",
    "print(f'between least and medium: U-statistic: {u_stat}, P-value: {p_value}')\n",
    "\n",
    "u_stat, p_value = mannwhitneyu(medium_MSE, most_MSE)\n",
    "print(f'between medium and most: U-statistic: {u_stat}, P-value: {p_value}')\n",
    "\n",
    "u_stat, p_value = mannwhitneyu(least_MSE, most_MSE)\n",
    "print(f'between least and most: U-statistic: {u_stat}, P-value: {p_value}')\n",
    "\n",
    "#the test shows that there are indeed difference between model's performance on 3 categories of stocks (>99% confidence)\n",
    "#the higher the liquidity, the better the model peforms"
   ]
  },
  {
   "cell_type": "markdown",
   "metadata": {},
   "source": [
    "**performance across different times (dates)**"
   ]
  },
  {
   "cell_type": "code",
   "execution_count": 118,
   "metadata": {},
   "outputs": [
    {
     "name": "stdout",
     "output_type": "stream",
     "text": [
      "first half mean of MSE: 0.0130618986031159\n",
      "second half mean of MSE: 0.009003701450782397\n",
      "between least and most: U-statistic: 174247.0, P-value: 1.5534453368421193e-21\n"
     ]
    }
   ],
   "source": [
    "first_half_MSE = np.square(residuals_structured[:,:int(residuals_structured.shape[1]/2)]).mean(axis=1)\n",
    "second_half_MSE = np.square(residuals_structured[:,int(residuals_structured.shape[1]/2):]).mean(axis=1)\n",
    "\n",
    "#again conduct the same test\n",
    "print(f\"first half mean of MSE: {np.mean(first_half_MSE)}\")\n",
    "print(f\"second half mean of MSE: {np.mean(second_half_MSE)}\")\n",
    "\n",
    "u_stat, p_value = mannwhitneyu(first_half_MSE, second_half_MSE)\n",
    "print(f'between least and most: U-statistic: {u_stat}, P-value: {p_value}')\n",
    "\n",
    "#the model does perform better in second half of the dates"
   ]
  },
  {
   "cell_type": "markdown",
   "metadata": {},
   "source": [
    "**Heteroscedasticity of error**"
   ]
  },
  {
   "cell_type": "code",
   "execution_count": 119,
   "metadata": {},
   "outputs": [
    {
     "name": "stdout",
     "output_type": "stream",
     "text": [
      "White's test statistic: 4.177349287645539, p-value: 0.12385117400745663\n"
     ]
    }
   ],
   "source": [
    "#we use White's test for heteroscedasticity of residuals\n",
    "from statsmodels.stats.diagnostic import het_white\n",
    "import statsmodels.api as sm\n",
    "\n",
    "white_test = het_white(residuals, sm.add_constant(x))\n",
    "print(f\"White's test statistic: {white_test[0]}, p-value: {white_test[1]}\")\n",
    "\n",
    "#the p-value is actually pretty large, indicate that we can't reject the null hypothesis that the data is homoscedasticity (constant variance)"
   ]
  },
  {
   "cell_type": "markdown",
   "metadata": {},
   "source": [
    "**Is 10 day look back Optimal?**"
   ]
  },
  {
   "cell_type": "code",
   "execution_count": 120,
   "metadata": {},
   "outputs": [
    {
     "name": "stdout",
     "output_type": "stream",
     "text": [
      "for look back of 10\n",
      "Optimal eta: 0.33244, Optimal beta: 0.36127, MSE: 0.27720763715479035\n",
      "for look back of 11\n",
      "Optimal eta: 0.49075, Optimal beta: 0.49091, MSE: 0.28460677548530655\n",
      "for look back of 12\n",
      "Optimal eta: 0.45613, Optimal beta: 0.45617, MSE: 0.28479419709026516\n",
      "for look back of 13\n",
      "Optimal eta: 0.40968, Optimal beta: 0.40975, MSE: 0.25929770738209545\n",
      "for look back of 14\n",
      "Optimal eta: 0.41507, Optimal beta: 0.41111, MSE: 0.26240266229244064\n",
      "for look back of 15\n",
      "Optimal eta: 0.41020, Optimal beta: 0.40164, MSE: 0.26600547957086856\n",
      "for look back of 16\n",
      "Optimal eta: 0.38111, Optimal beta: 0.37411, MSE: 0.26939934023307327\n",
      "for look back of 17\n",
      "Optimal eta: 0.37243, Optimal beta: 0.36553, MSE: 0.27335268015326425\n",
      "for look back of 18\n",
      "Optimal eta: 0.40408, Optimal beta: 0.39893, MSE: 0.28770571883260415\n",
      "for look back of 19\n",
      "Optimal eta: 0.41665, Optimal beta: 0.41092, MSE: 0.29180610195152346\n"
     ]
    }
   ],
   "source": [
    "\n",
    "for lookback in range(10,20):\n",
    "\n",
    "    totalDailyValue = pd.read_csv(\"Input/totalDailyValueDf.csv\")\n",
    "    imbalance = pd.read_csv(\"Input/imbalanceDf.csv\")\n",
    "    vwap330 = pd.read_csv(\"Input/vwap330Df.csv\")\n",
    "    arrivalPrice = pd.read_csv(\"Input/arrivalPriceDf.csv\")\n",
    "    terminalPrice = pd.read_csv(\"Input/terminalPriceDf.csv\")\n",
    "    dailyVol = pd.read_csv(\"Input/dailyVolDf.csv\")\n",
    "\n",
    "    # Drop the \"Stock\" column if present\n",
    "    totalDailyValue.drop(\"Stock\", axis=1, inplace=True)\n",
    "    imbalance.drop(\"Stock\", axis=1, inplace=True)\n",
    "    vwap330.drop(\"Stock\", axis=1, inplace=True)\n",
    "    arrivalPrice.drop(\"Stock\", axis=1, inplace=True)\n",
    "    terminalPrice.drop(\"Stock\", axis=1, inplace=True)\n",
    "    dailyVol.drop(\"Stock\", axis=1, inplace=True)\n",
    "\n",
    "    #compute rolling 10 day average of daily value\n",
    "    avgDailyValue = totalDailyValue.copy()\n",
    "\n",
    "    queue = []\n",
    "    for c in totalDailyValue.columns:\n",
    "        #add new day\n",
    "        queue.append(totalDailyValue[c])\n",
    "\n",
    "\n",
    "        if len(queue) == lookback:\n",
    "            avgDailyValue[c] = sum(queue) / lookback\n",
    "\n",
    "            #remove the earliest day in the queue\n",
    "            queue.pop(0)\n",
    "        else:\n",
    "            avgDailyValue[c] = np.zeros_like(avgDailyValue.index)\n",
    "\n",
    "    #we use the data from day 11 and onwards because the daily vol and average value are not avaliable before then\n",
    "    totalDailyValue = totalDailyValue[totalDailyValue.columns[lookback:]]\n",
    "    imbalance = imbalance[imbalance.columns[lookback:]]\n",
    "    vwap330 = vwap330[vwap330.columns[lookback:]]\n",
    "    arrivalPrice = arrivalPrice[arrivalPrice.columns[lookback:]]\n",
    "    terminalPrice = terminalPrice[terminalPrice.columns[lookback:]]\n",
    "    dailyVol = dailyVol[dailyVol.columns[lookback:]]\n",
    "    avgDailyValue = avgDailyValue[avgDailyValue.columns[lookback:]]\n",
    "\n",
    "    # Extract the required data for computation\n",
    "    impact330 = vwap330 - arrivalPrice\n",
    "    permanent_impact = (terminalPrice - arrivalPrice)/2\n",
    "\n",
    "\n",
    "    Y = (impact330 - permanent_impact)  # temp_impact\n",
    "    X = imbalance\n",
    "    V = avgDailyValue\n",
    "\n",
    "    # Replace infinite and NaN values with stock specific means\n",
    "    Y = Y.apply(lambda row: row.fillna(row.mean()), axis=1)\n",
    "\n",
    "    #perform the non-linear regression to minimize the sum of squared error\n",
    "\n",
    "    #stack the data to one column\n",
    "    y = np.array(Y.stack())\n",
    "    x = np.array((X / (6*V/6.5)).stack())\n",
    "    sigma = np.array(dailyVol.stack())\n",
    "\n",
    "    def temp_impact(x,eta,beta):\n",
    "        temporary_impact = eta * sigma * np.sign(x) * np.power(np.abs(x) , beta)\n",
    "        return temporary_impact\n",
    "\n",
    "    # Perform the curve fitting\n",
    "    popt, pcov = curve_fit(temp_impact, x, y)\n",
    "\n",
    "    # popt contains the optimal values for eta and beta\n",
    "    eta_optimal = popt[0]\n",
    "    beta_optimal = popt[1]\n",
    "    y_pred = temp_impact(x,eta_optimal,beta_optimal)\n",
    "\n",
    "    residuals = y - y_pred\n",
    "\n",
    "    #print the result\n",
    "    print('for look back of %s'%lookback)\n",
    "    print('Optimal eta: %.5f, Optimal beta: %.5f, MSE: %s'%(eta_optimal,beta_optimal,np.mean(np.square(residuals))))\n",
    "\n",
    "#we see that a look back of 13 days is probably better\n",
    "#because the day only have around 60 days have data, having a longer look back period also reduces the number of days used in regression."
   ]
  }
 ],
 "metadata": {
  "kernelspec": {
   "display_name": "Python 3",
   "language": "python",
   "name": "python3"
  },
  "language_info": {
   "codemirror_mode": {
    "name": "ipython",
    "version": 3
   },
   "file_extension": ".py",
   "mimetype": "text/x-python",
   "name": "python",
   "nbconvert_exporter": "python",
   "pygments_lexer": "ipython3",
   "version": "3.9.5"
  }
 },
 "nbformat": 4,
 "nbformat_minor": 2
}
